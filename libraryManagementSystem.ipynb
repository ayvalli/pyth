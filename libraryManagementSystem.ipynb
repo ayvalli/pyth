{
  "cells": [
    {
      "cell_type": "markdown",
      "metadata": {
        "id": "view-in-github",
        "colab_type": "text"
      },
      "source": [
        "<a href=\"https://colab.research.google.com/github/ayvalli/pyth/blob/main/libraryManagementSystem.ipynb\" target=\"_parent\"><img src=\"https://colab.research.google.com/assets/colab-badge.svg\" alt=\"Open In Colab\"/></a>"
      ]
    },
    {
      "cell_type": "code",
      "execution_count": 13,
      "metadata": {
        "colab": {
          "base_uri": "https://localhost:8080/"
        },
        "id": "yyg1wKxx84qX",
        "outputId": "77e876b4-a593-4f4e-8a79-2cb35bb1f47f"
      },
      "outputs": [
        {
          "name": "stdout",
          "output_type": "stream",
          "text": [
            "\n",
            "*** Menu ***\n",
            "1-) List books\n",
            "2-) Add book\n",
            "3-) Remove book\n",
            "4-) Quit\n",
            "Enter your choice (1-4):4\n"
          ]
        }
      ],
      "source": [
        "class Library:\n",
        "  #contructor\n",
        "  def __init__(self):\n",
        "    self.filePath = \"books.txt\"\n",
        "    self.file = open(self.filePath, \"a+\")\n",
        "\n",
        "  #destructor // fonksiyon çıkışında file dosyasını kapatacak\n",
        "  def __del__(self):\n",
        "    self.file.close()\n",
        "\n",
        "  def listBooks(self):\n",
        "    self.file.seek(0)\n",
        "    #books listesine her bir satırı ayrı bir eleman olarak ekliyoruz\n",
        "    books = self.file.read().splitlines()\n",
        "    print(\"\\n***List of Books***\")\n",
        "    #değişkenlere satırlardaki virgülle ayrılmış kelime(ler) atanıyor\n",
        "    for book in books:\n",
        "      id, title, author, releaseDate, numberPages = book.split(',')\n",
        "      print(f\"Title: {title}, Author: {author}\")\n",
        "\n",
        "  def addBook(self):\n",
        "    global maxId\n",
        "    title = input(\"Book title:\")\n",
        "    author = input(\"Author:\")\n",
        "    releaseDate = input(\"Release date:\")\n",
        "    numberPages = input(\"Number of pages:\") #tamsayı yapılabilir //sınıflama yapılabilir ileride\n",
        "\n",
        "    #herbir kitaba benzersiz bir id ver\n",
        "    #öncelikle self.file taranıp enbüyük id no bulunacak\n",
        "    self.file.seek(0)\n",
        "    books = self.file.read().splitlines()\n",
        "    #Dosya boşsa ilk id değeri 1 olsun\n",
        "    if not books:\n",
        "      id = 1\n",
        "    else:\n",
        "      #zaten varolan id'leri bir listede topla\n",
        "      existstingIds = [int(book.split(',')[0]) for book in books]\n",
        "      #en büyük id'yi bul\n",
        "      maxId = max(existstingIds)\n",
        "      id=maxId+1\n",
        "    #kitap bilgilerini hazırla ve belgeye yaz\n",
        "    bookInfo = f\"\\n{id},{title},{author},{releaseDate},{numberPages}\"\n",
        "    self.file.write(bookInfo)\n",
        "    print(f\"Book added successfully! Book: {title}\")\n",
        "\n",
        "  def romoveBook(self):\n",
        "    titleToRemove = input(\"Title to remove book:\")\n",
        "\n",
        "    self.file.seek(0)\n",
        "    books = self.file.read().splitlines()\n",
        "\n",
        "    if not books:\n",
        "      print(\"There are no books to remove\")\n",
        "      return\n",
        "    #Aynı isme sahip kitapları bul\n",
        "    matchingBooks = [book for book in books if titleToRemove == book.split(',')[1]]\n",
        "\n",
        "    #Aynı isme sahip kitaplardan seçilen id ye göre kitap kaldır. Yanlış seçim yapılmasını engelle\n",
        "    if not matchingBooks:\n",
        "      print (f\"Book Title:{titleToRemove} is not found\")\n",
        "\n",
        "    elif len(matchingBooks)>1:\n",
        "      for book in matchingBooks:\n",
        "        print(book)\n",
        "      choiceId = input(\"Enter the id to remove the book: \")\n",
        "      for book in matchingBooks:\n",
        "          if choiceId == book.split(',')[0]:\n",
        "              books.remove(book)\n",
        "              print(f\"Book Title: {titleToRemove} removed successfully.\")\n",
        "              break\n",
        "      else:\n",
        "          print(\"Invalid ID. Book not removed.\")\n",
        "          return\n",
        "    #silinmek istenen kitap ismi tek ise kaldır\n",
        "    else:\n",
        "      for book in books:\n",
        "        if titleToRemove == book.split(',')[1]:\n",
        "          books.remove(book)\n",
        "          print(f\"Book Title: {titleToRemove} removed successfully.\")\n",
        "          break\n",
        "\n",
        "  # Dosyayıyı silinen kitap olmadan tekrar yaz\n",
        "    self.file.seek(0)\n",
        "    self.file.truncate()\n",
        "    self.file.write('\\n'.join(books))\n",
        "\n",
        "\n",
        "#classtan nesne üret\n",
        "lib = Library()\n",
        "\n",
        "while True:\n",
        "  print(\"\\n*** Menu ***\\n1-) List books\\n2-) Add book\\n3-) Remove book\\n4-) Quit\")\n",
        "\n",
        "  choice = input(\"Enter your choice (1-4):\")\n",
        "\n",
        "  if choice == \"1\":\n",
        "    lib.listBooks()\n",
        "  elif choice == \"2\":\n",
        "    lib.addBook()\n",
        "  elif choice == \"3\":\n",
        "    lib.romoveBook()\n",
        "  elif choice == \"4\":\n",
        "    break\n",
        "  else:\n",
        "    print(\"Invalid choice\")"
      ]
    }
  ],
  "metadata": {
    "colab": {
      "provenance": [],
      "authorship_tag": "ABX9TyOxqdb7TtcswF+FDkJvuNRP",
      "include_colab_link": true
    },
    "kernelspec": {
      "display_name": "Python 3",
      "name": "python3"
    },
    "language_info": {
      "name": "python"
    }
  },
  "nbformat": 4,
  "nbformat_minor": 0
}